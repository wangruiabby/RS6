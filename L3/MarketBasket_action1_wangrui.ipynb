{
 "cells": [
  {
   "cell_type": "code",
   "execution_count": 83,
   "metadata": {},
   "outputs": [],
   "source": [
    "import numpy as np\n",
    "import pandas as pd\n",
    "import csv\n",
    "from efficient_apriori import apriori\n",
    "\n",
    "# 数据加载\n",
    "csv_file=open('./Market_Basket_Optimisation.csv')    #打开csv文件\n",
    "basket_data = csv.reader(csv_file)   #逐行读取csv文件\n",
    "# basket_data = pd.read_csv('./Market_Basket_Optimisation.csv',header=None)"
   ]
  },
  {
   "cell_type": "code",
   "execution_count": 84,
   "metadata": {},
   "outputs": [],
   "source": [
    "transactions = []\n",
    "for line in basket_data:\n",
    "    transactions.append(set(line))"
   ]
  },
  {
   "cell_type": "code",
   "execution_count": 88,
   "metadata": {},
   "outputs": [],
   "source": [
    "itemsets, rules = apriori(transactions, min_support=0.02,  min_confidence=0.3)"
   ]
  },
  {
   "cell_type": "code",
   "execution_count": 89,
   "metadata": {},
   "outputs": [
    {
     "name": "stdout",
     "output_type": "stream",
     "text": [
      "{1: {('almonds',): 153, ('avocado',): 250, ('brownies',): 253, ('burgers',): 654, ('butter',): 226, ('cake',): 608, ('cereals',): 193, ('champagne',): 351, ('chicken',): 450, ('chocolate',): 1229, ('cookies',): 603, ('cooking oil',): 383, ('cottage cheese',): 239, ('eggs',): 1348, ('energy bar',): 203, ('energy drink',): 200, ('escalope',): 595, ('french fries',): 1282, ('french wine',): 169, ('fresh bread',): 323, ('fresh tuna',): 167, ('frozen smoothie',): 475, ('frozen vegetables',): 715, ('grated cheese',): 393, ('green tea',): 991, ('ground beef',): 737, ('ham',): 199, ('herb & pepper',): 371, ('honey',): 356, ('hot dogs',): 243, ('light mayo',): 204, ('low fat yogurt',): 574, ('meatballs',): 157, ('milk',): 972, ('mineral water',): 1788, ('muffins',): 181, ('oil',): 173, ('olive oil',): 494, ('pancakes',): 713, ('pepper',): 199, ('red wine',): 211, ('salmon',): 319, ('shrimp',): 536, ('soup',): 379, ('spaghetti',): 1306, ('strawberries',): 160, ('tomato juice',): 228, ('tomatoes',): 513, ('turkey',): 469, ('vegetables mix',): 193, ('whole wheat pasta',): 221, ('whole wheat rice',): 439, ('yogurt cake',): 205}, 2: {('burgers', 'eggs'): 216, ('burgers', 'french fries'): 165, ('burgers', 'mineral water'): 183, ('burgers', 'spaghetti'): 161, ('cake', 'mineral water'): 206, ('chicken', 'mineral water'): 171, ('chocolate', 'eggs'): 249, ('chocolate', 'french fries'): 258, ('chocolate', 'frozen vegetables'): 172, ('chocolate', 'green tea'): 176, ('chocolate', 'ground beef'): 173, ('chocolate', 'milk'): 241, ('chocolate', 'mineral water'): 395, ('chocolate', 'spaghetti'): 294, ('cooking oil', 'mineral water'): 151, ('eggs', 'french fries'): 273, ('eggs', 'frozen vegetables'): 163, ('eggs', 'green tea'): 191, ('eggs', 'milk'): 231, ('eggs', 'mineral water'): 382, ('eggs', 'pancakes'): 163, ('eggs', 'spaghetti'): 274, ('french fries', 'green tea'): 214, ('french fries', 'milk'): 178, ('french fries', 'mineral water'): 253, ('french fries', 'pancakes'): 151, ('french fries', 'spaghetti'): 207, ('frozen smoothie', 'mineral water'): 152, ('frozen vegetables', 'milk'): 177, ('frozen vegetables', 'mineral water'): 268, ('frozen vegetables', 'spaghetti'): 209, ('green tea', 'mineral water'): 233, ('green tea', 'spaghetti'): 199, ('ground beef', 'milk'): 165, ('ground beef', 'mineral water'): 307, ('ground beef', 'spaghetti'): 294, ('low fat yogurt', 'mineral water'): 180, ('milk', 'mineral water'): 360, ('milk', 'spaghetti'): 266, ('mineral water', 'olive oil'): 207, ('mineral water', 'pancakes'): 253, ('mineral water', 'shrimp'): 177, ('mineral water', 'soup'): 173, ('mineral water', 'spaghetti'): 448, ('mineral water', 'tomatoes'): 183, ('mineral water', 'whole wheat rice'): 151, ('olive oil', 'spaghetti'): 172, ('pancakes', 'spaghetti'): 189, ('shrimp', 'spaghetti'): 159, ('spaghetti', 'tomatoes'): 157}}\n",
      "[{burgers} -> {eggs}, {cake} -> {mineral water}, {chicken} -> {mineral water}, {chocolate} -> {mineral water}, {cooking oil} -> {mineral water}, {frozen smoothie} -> {mineral water}, {frozen vegetables} -> {mineral water}, {ground beef} -> {mineral water}, {ground beef} -> {spaghetti}, {low fat yogurt} -> {mineral water}, {milk} -> {mineral water}, {olive oil} -> {mineral water}, {pancakes} -> {mineral water}, {shrimp} -> {mineral water}, {soup} -> {mineral water}, {spaghetti} -> {mineral water}, {tomatoes} -> {mineral water}, {whole wheat rice} -> {mineral water}, {olive oil} -> {spaghetti}, {tomatoes} -> {spaghetti}]\n"
     ]
    }
   ],
   "source": [
    "print(itemsets)\n",
    "print(rules)"
   ]
  },
  {
   "cell_type": "code",
   "execution_count": null,
   "metadata": {},
   "outputs": [],
   "source": []
  }
 ],
 "metadata": {
  "kernelspec": {
   "display_name": "Python 3",
   "language": "python",
   "name": "python3"
  },
  "language_info": {
   "codemirror_mode": {
    "name": "ipython",
    "version": 3
   },
   "file_extension": ".py",
   "mimetype": "text/x-python",
   "name": "python",
   "nbconvert_exporter": "python",
   "pygments_lexer": "ipython3",
   "version": "3.7.3"
  }
 },
 "nbformat": 4,
 "nbformat_minor": 4
}
