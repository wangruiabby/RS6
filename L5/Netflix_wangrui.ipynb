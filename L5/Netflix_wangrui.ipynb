{
 "cells": [
  {
   "cell_type": "code",
   "execution_count": 2,
   "metadata": {},
   "outputs": [],
   "source": [
    "import pandas as pd\n",
    "import numpy as np\n",
    "from surprise import NormalPredictor\n",
    "from surprise import Dataset\n",
    "from surprise import Reader\n",
    "from surprise.model_selection import cross_validate"
   ]
  },
  {
   "cell_type": "code",
   "execution_count": 4,
   "metadata": {},
   "outputs": [],
   "source": [
    "# df = pd.read_csv('./netflix-prize-data/movie_titles.csv', header=None, delimiter=\"\\t\", encoding = \"ISO-8859-1\")\n",
    "\n",
    "# train_df1 = pd.read_table('./netflix-prize-data/combined_data_1.txt', header=None)"
   ]
  },
  {
   "cell_type": "code",
   "execution_count": 1,
   "metadata": {},
   "outputs": [],
   "source": [
    "# df = train_df1.sample(frac=1.0)  # 全部打乱\n",
    "# cut_idx = int(round(0.1 * df.shape[0]))\n",
    "# df_train = df.iloc[:cut_idx]\n",
    "# print(df.shape, df_train.shape)  # (3184, 12) (318, 12) (2866, 12)|"
   ]
  },
  {
   "cell_type": "code",
   "execution_count": 6,
   "metadata": {},
   "outputs": [],
   "source": [
    "with open(\"./netflix-prize-data/combined_data_1.txt\", \"r\") as f:  # 打开文件\n",
    "    data = f.readlines()  # 读取文件"
   ]
  },
  {
   "cell_type": "code",
   "execution_count": 17,
   "metadata": {},
   "outputs": [],
   "source": [
    "data_array = []\n",
    "movieId = ''\n",
    "for i in range(int(len(data)/ 5)):\n",
    "    if ':' in data[i]:\n",
    "        movieId = data[i].split(\":\")[0]\n",
    "        continue\n",
    "    customerID = data[i].split(\",\")[0]\n",
    "    rating = data[i].split(\",\")[1]\n",
    "    data_array.append([customerID, movieId, rating])"
   ]
  },
  {
   "cell_type": "code",
   "execution_count": 18,
   "metadata": {},
   "outputs": [],
   "source": [
    "data_df = pd.DataFrame(data_array,columns=['customerID','movieId','rating'])"
   ]
  },
  {
   "cell_type": "code",
   "execution_count": 24,
   "metadata": {},
   "outputs": [],
   "source": [
    "reader = Reader(rating_scale=(1, 5))\n",
    "# The columns must correspond to user id, item id and ratings (in that order).\n",
    "dataTrain = Dataset.load_from_df(data_df[['customerID','movieId','rating']], reader)"
   ]
  },
  {
   "cell_type": "code",
   "execution_count": 25,
   "metadata": {},
   "outputs": [
    {
     "data": {
      "text/plain": [
       "{'test_rmse': array([1.44886832, 1.44970245]),\n",
       " 'test_mae': array([1.16083728, 1.16181473]),\n",
       " 'fit_time': (8.39664602279663, 12.16157841682434),\n",
       " 'test_time': (40.111706018447876, 45.42388129234314)}"
      ]
     },
     "execution_count": 25,
     "metadata": {},
     "output_type": "execute_result"
    }
   ],
   "source": [
    "# We can now use this dataset as we please, e.g. calling cross_validate\n",
    "cross_validate(NormalPredictor(), dataTrain, cv=2)"
   ]
  },
  {
   "cell_type": "code",
   "execution_count": 29,
   "metadata": {},
   "outputs": [
    {
     "name": "stdout",
     "output_type": "stream",
     "text": [
      "Estimating biases using als...\n",
      "Estimating biases using als...\n",
      "Estimating biases using als...\n",
      "Estimating biases using als...\n",
      "Estimating biases using als...\n"
     ]
    },
    {
     "data": {
      "text/plain": [
       "{'test_rmse': array([0.95500535, 0.95428015, 0.95416348, 0.95614176, 0.9547556 ]),\n",
       " 'test_mae': array([0.75840502, 0.7577454 , 0.75709479, 0.75876729, 0.7582852 ]),\n",
       " 'fit_time': (30.31313705444336,\n",
       "  37.759105920791626,\n",
       "  37.86931753158569,\n",
       "  34.17902159690857,\n",
       "  38.02493381500244),\n",
       " 'test_time': (78.31344270706177,\n",
       "  8.524463891983032,\n",
       "  66.32598209381104,\n",
       "  6.840270042419434,\n",
       "  15.304190158843994)}"
      ]
     },
     "execution_count": 29,
     "metadata": {},
     "output_type": "execute_result"
    }
   ],
   "source": [
    "# We can now u                        se this dataset as we please, e.g. calling cross_validate\n",
    "cross_validate(BaselineOnly(), dataTrain, cv=5)"
   ]
  },
  {
   "cell_type": "code",
   "execution_count": 27,
   "metadata": {},
   "outputs": [
    {
     "name": "stdout",
     "output_type": "stream",
     "text": [
      "Estimating biases using als...\n",
      "RMSE: 0.9560\n",
      "Estimating biases using als...\n",
      "RMSE: 0.9561\n",
      "Estimating biases using als...\n",
      "RMSE: 0.9560\n"
     ]
    }
   ],
   "source": [
    "from surprise import BaselineOnly, KNNBasic, NormalPredictor\n",
    "from surprise import accuracy\n",
    "from surprise.model_selection import KFold\n",
    "\n",
    "train_set = dataTrain.build_full_trainset()\n",
    "\n",
    "# ALS优化\n",
    "bsl_options = {'method': 'als','n_epochs': 5,'reg_u': 12,'reg_i': 5}\n",
    "# SGD优化\n",
    "#bsl_options = {'method': 'sgd','n_epochs': 5}\n",
    "\n",
    "algo = BaselineOnly(bsl_options=bsl_options)\n",
    "#algo = BaselineOnly()\n",
    "#algo = NormalPredictor()\n",
    "\n",
    "# 定义K折交叉验证迭代器，K=3\n",
    "kf = KFold(n_splits=3)\n",
    "for trainset, testset in kf.split(dataTrain):\n",
    "    # 训练并预测\n",
    "    algo.fit(trainset)\n",
    "    predictions = algo.test(testset)\n",
    "    # 计算RMSE\n",
    "    accuracy.rmse(predictions, verbose=True)"
   ]
  },
  {
   "cell_type": "code",
   "execution_count": null,
   "metadata": {},
   "outputs": [],
   "source": []
  }
 ],
 "metadata": {
  "kernelspec": {
   "display_name": "Python 3",
   "language": "python",
   "name": "python3"
  },
  "language_info": {
   "codemirror_mode": {
    "name": "ipython",
    "version": 3
   },
   "file_extension": ".py",
   "mimetype": "text/x-python",
   "name": "python",
   "nbconvert_exporter": "python",
   "pygments_lexer": "ipython3",
   "version": "3.7.3"
  }
 },
 "nbformat": 4,
 "nbformat_minor": 4
}
