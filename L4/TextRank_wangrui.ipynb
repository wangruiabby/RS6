{
 "cells": [
  {
   "cell_type": "code",
   "execution_count": 18,
   "metadata": {},
   "outputs": [],
   "source": [
    "from textrank4zh import TextRank4Keyword, TextRank4Sentence\n",
    "# from jieba import analyse\n",
    "\n",
    "data = ''\n",
    "with open(\"./news.txt\", \"r\") as f:  # 打开文件\n",
    "    data = f.read()  # 读取文件"
   ]
  },
  {
   "cell_type": "code",
   "execution_count": 19,
   "metadata": {},
   "outputs": [
    {
     "name": "stdout",
     "output_type": "stream",
     "text": [
      "关键词：\n",
      "学生 0.0640562193171476\n",
      "情况 0.03408560625354374\n",
      "中小学 0.028039567778001893\n",
      "做好 0.025370310607351808\n",
      "教学 0.02348238685226383\n",
      "学习 0.022563559125933923\n",
      "教育局 0.021821626232347666\n",
      "指导 0.020815842184169844\n",
      "市属 0.020414506276586208\n",
      "武汉市 0.01915524398502401\n",
      "延迟 0.018371930225384824\n",
      "安排 0.018277873636029833\n",
      "集体 0.01726509730966709\n",
      "学校 0.017076084588102173\n",
      "生活 0.01691997813505238\n",
      "开学 0.016891066590014207\n",
      "课程 0.016885914783294133\n",
      "方案 0.016885914783294133\n",
      "组织 0.01625055545811202\n",
      "培训 0.01622482111272769\n",
      "\n",
      "\n",
      "摘要：\n",
      "0 0.16736862381514578 今天，武汉市教育局发出《关于延迟2020年春季开学时间有关工作的通知》，延迟全市中小学、市属大中专院校2020年春季开学时间\n",
      "3 0.16121904336116283 2月10日开始，各区教育局组织辖区中小学、中职学校，按照教学计划安排，开展在线课程教学（方案另发）\n",
      "6 0.14645271233055304 要关注学生心理健康，建立离校学生情况日报制度，定期向学生了解相关情况，通过电话、网络等各种方式做好学生的个性化辅导\n"
     ]
    }
   ],
   "source": [
    "tr4w = TextRank4Keyword()\n",
    "tr4w.analyze(text=data, lower=True, window=2)\n",
    "print('关键词：')\n",
    "for item in tr4w.get_keywords(20, word_min_len=1):\n",
    "    print(item.word, item.weight)\n",
    "\n",
    "print('\\n')\n",
    "    \n",
    "tr4s = TextRank4Sentence()\n",
    "tr4s.analyze(text=data, lower=True, source = 'all_filters')\n",
    "print('摘要：')\n",
    "for item in tr4s.get_key_sentences(num=3):\n",
    "    print(item.index, item.weight, item.sentence)"
   ]
  },
  {
   "cell_type": "code",
   "execution_count": null,
   "metadata": {},
   "outputs": [],
   "source": []
  }
 ],
 "metadata": {
  "kernelspec": {
   "display_name": "Python 3",
   "language": "python",
   "name": "python3"
  },
  "language_info": {
   "codemirror_mode": {
    "name": "ipython",
    "version": 3
   },
   "file_extension": ".py",
   "mimetype": "text/x-python",
   "name": "python",
   "nbconvert_exporter": "python",
   "pygments_lexer": "ipython3",
   "version": "3.7.3"
  }
 },
 "nbformat": 4,
 "nbformat_minor": 4
}
