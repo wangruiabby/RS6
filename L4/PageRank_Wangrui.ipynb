{
 "cells": [
  {
   "cell_type": "code",
   "execution_count": 14,
   "metadata": {},
   "outputs": [],
   "source": [
    "import numpy as np\n",
    "\n",
    "a = np.array([[0, 0, 0, 1/3, 0, 0], \n",
    "              [1/4, 0, 0, 0, 1/2, 0],\n",
    "              [0, 1, 0, 1/3, 1/2, 0],\n",
    "              [1/4, 0, 1, 0, 0, 1],\n",
    "              [1/4, 0, 0, 1/3, 0, 0],\n",
    "              [1/4, 0, 0, 0, 0, 0]])\n",
    "\n",
    "b = np.array([1/6, 1/6, 1/6, 1/6, 1/6, 1/6])"
   ]
  },
  {
   "cell_type": "code",
   "execution_count": 15,
   "metadata": {},
   "outputs": [
    {
     "name": "stdout",
     "output_type": "stream",
     "text": [
      "PageRank简化模型结果: \n",
      " [0.11267606 0.09859155 0.28169014 0.33802817 0.14084507 0.02816901]\n",
      "\n",
      "\n",
      "PageRank随机浏览模型结果: \n",
      " [0.12077465 0.10880282 0.26443662 0.31232394 0.14471831 0.04894366]\n"
     ]
    }
   ],
   "source": [
    "# 简化PageRank\n",
    "w1 = b\n",
    "w2 = b\n",
    "d = 0.85\n",
    "for i in range(100):\n",
    "    w1 = np.dot(a, w1)\n",
    "    w2 = (1-d)/6 * np.ones(6) + d*w1 \n",
    "    \n",
    "print(\"PageRank简化模型结果:\", '\\n', w1)\n",
    "print('\\n')\n",
    "print(\"PageRank随机浏览模型结果:\", '\\n', w2)"
   ]
  },
  {
   "cell_type": "code",
   "execution_count": null,
   "metadata": {},
   "outputs": [],
   "source": []
  }
 ],
 "metadata": {
  "kernelspec": {
   "display_name": "Python 3",
   "language": "python",
   "name": "python3"
  },
  "language_info": {
   "codemirror_mode": {
    "name": "ipython",
    "version": 3
   },
   "file_extension": ".py",
   "mimetype": "text/x-python",
   "name": "python",
   "nbconvert_exporter": "python",
   "pygments_lexer": "ipython3",
   "version": "3.7.3"
  }
 },
 "nbformat": 4,
 "nbformat_minor": 4
}
